{
  "nbformat": 4,
  "nbformat_minor": 0,
  "metadata": {
    "colab": {
      "name": "Untitled2.ipynb",
      "version": "0.3.2",
      "provenance": [],
      "include_colab_link": true
    },
    "kernelspec": {
      "name": "python3",
      "display_name": "Python 3"
    }
  },
  "cells": [
    {
      "cell_type": "markdown",
      "metadata": {
        "id": "view-in-github",
        "colab_type": "text"
      },
      "source": [
        "<a href=\"https://colab.research.google.com/github/ml2-picme/PicMe/blob/master/Model%20Comparison.ipynb\" target=\"_parent\"><img src=\"https://colab.research.google.com/assets/colab-badge.svg\" alt=\"Open In Colab\"/></a>"
      ]
    },
    {
      "metadata": {
        "id": "kBG6T6-B3ao6",
        "colab_type": "text"
      },
      "cell_type": "markdown",
      "source": [
        "## Methodendefinitionen"
      ]
    },
    {
      "metadata": {
        "id": "mqUmHExLhxqA",
        "colab_type": "code",
        "colab": {}
      },
      "cell_type": "code",
      "source": [
        "# Install the PyDrive wrapper & import libraries\n",
        "!pip install -U -q PyDrive\n",
        "\n",
        "from pydrive.auth import GoogleAuth\n",
        "from pydrive.drive import GoogleDrive\n",
        "from google.colab import auth\n",
        "from oauth2client.client import GoogleCredentials\n",
        "import os\n",
        "from keras.applications.vgg16 import VGG16, preprocess_input\n",
        "\n",
        "from PIL import Image\n",
        "import numpy as np\n",
        "\n",
        "from keras.applications.vgg16 import decode_predictions\n",
        "import matplotlib.pyplot as plt\n",
        "\n",
        "#import plotly.plotly as plotly\n",
        "\n",
        "from plotly.offline import download_plotlyjs, init_notebook_mode, plot,iplot\n",
        "import plotly.graph_objs as go\n",
        "\n",
        "# Define the Methods\n",
        "\n",
        "localFilePath = \"/root/data\"\n",
        "\n",
        "def reloadPictures():\n",
        "  # Authenticate and create the PyDrive client\n",
        "  auth.authenticate_user()\n",
        "  gauth = GoogleAuth()\n",
        "  gauth.credentials = GoogleCredentials.get_application_default()\n",
        "  drive = GoogleDrive(gauth)\n",
        "\n",
        "  # Delete the local directory\n",
        "  !rm -r $localFilePath\n",
        "  print(\"Deleted local directory\")\n",
        "\n",
        "  # Set a local directory and upload files from Google Drive\n",
        "  local_root_path = os.path.expanduser(localFilePath)\n",
        "  try:\n",
        "    os.makedirs(local_root_path)\n",
        "  except: pass\n",
        "\n",
        "  def ListFolder(google_drive_id, destination):\n",
        "    file_list = drive.ListFile({'q': \"'%s' in parents and trashed=false\" % google_drive_id}).GetList()\n",
        "    counter = 0\n",
        "    for f in file_list:\n",
        "      # If it is a directory then, create the dicrectory and upload the file inside it\n",
        "      if f['mimeType']=='application/vnd.google-apps.folder': \n",
        "        folder_path = os.path.join(destination, f['title'])\n",
        "        os.makedirs(folder_path)\n",
        "        print('* creating directory {}'.format(folder_path))\n",
        "        ListFolder(f['id'], folder_path)\n",
        "      else:\n",
        "        fname = os.path.join(destination, f['title'])\n",
        "        f_ = drive.CreateFile({'id': f['id']})\n",
        "        f_.GetContentFile(fname)\n",
        "        counter += 1\n",
        "    print('* {} files were uploaded in {}'.format(counter, destination))\n",
        "\n",
        "  # Opening and uploading the Drive Folder => this is the shared directory and should work for everyone who belongs to the project\n",
        "  print(\"\\nCalling the ListFolder method, that uploads the data...\")\n",
        "  ListFolder(\"1M7TDDTFoNOjsrlEMonWN858uQONUp9Pz\", local_root_path)\n",
        "  print(\"Upload finished!\")\n",
        "\n",
        "  # Show the Data in the local Path\n",
        "  print(\"\\nListing files in local test directory\")\n",
        "  !ls -l $localFilePath\n",
        "  \n",
        "  \n",
        "def createFileList():\n",
        "  files = []\n",
        "  # r=root, d=directories, f = files\n",
        "  for r, d, f in os.walk(localFilePath):\n",
        "      for file in f:\n",
        "          if file.endswith(\".jpg\"):\n",
        "              files.append(os.path.join(r, file))\n",
        "\n",
        "  print(\"Printing files:\")\n",
        "\n",
        "  for f in files:\n",
        "      print(f)\n",
        "      \n",
        "  return files\n",
        "\n",
        "def prepareImagesForClassification(files):\n",
        "  \n",
        "  images = []\n",
        "  \n",
        "  for file in files:\n",
        "    try:\n",
        "      image = Image.open(file)\n",
        "      \n",
        "      image = image.resize((224, 224), Image.LANCZOS)\n",
        "      \n",
        "      image = image.convert(\"RGB\")\n",
        "      \n",
        "      image = np.asarray(image)\n",
        "      \n",
        "      images.append(image)\n",
        "    except OSError:\n",
        "      pass\n",
        "  \n",
        "  images = np.asarray(images)\n",
        "  \n",
        "  return images\n",
        "\n",
        "def classifyImages(images, model):\n",
        "  \n",
        "  # preprocess the images to fit to the model\n",
        "  images_preprocessed = preprocess_input(images)\n",
        "  \n",
        "  # use the model to classifi the images\n",
        "  images_pred = model.predict(images_preprocessed, verbose=1)\n",
        "  \n",
        "  pred_results = decode_predictions(images_pred)\n",
        "  \n",
        "  return pred_results\n",
        "\n",
        "def printResults(images, predictedClasses):\n",
        "  \n",
        "  for i in range(len(images)):\n",
        "    plt.figure()\n",
        "    plt.imshow(images[i])\n",
        "    plt.title(predictedClasses[i])\n",
        "    plt.axis('off')\n",
        "    \n",
        "  plt.show()\n",
        "  \n",
        "def compareResults(fileNames, resulsList, modelList, threshold):\n",
        "  \n",
        "  for i in range(len(fileNames)):\n",
        "    print(\"Comparing the Results for File: \" + fileNames[i])\n",
        "    \n",
        "    for j in range(5):\n",
        "      \n",
        "      for k in range(len(modelList)):\n",
        "        \n",
        "        resultToPrint = resultsList[k][i][j]\n",
        "        \n",
        "        # Setze 5% als Threshold\n",
        "        if(resultToPrint is not None and resultToPrint[2] > threshold):\n",
        "          print(\" > \", (j+1), \". Platz @ \", modelList[k], \" : \", resultsList[k][i][j])\n",
        "        else:\n",
        "          print(\" > \", (j+1), \". Platz @ \", modelList[k], \" : \", \"--- Threshold-Filter ---\")\n",
        "      \n",
        "      print(\"=================================================================\")\n",
        "      \n",
        "    print(\"\")"
      ],
      "execution_count": 0,
      "outputs": []
    },
    {
      "metadata": {
        "id": "jmR9dPtg3Svq",
        "colab_type": "text"
      },
      "cell_type": "markdown",
      "source": [
        "## Dateien übertragen -> einmal bei Session Start ausführen (bzw. bei neuen Bildern im Drive)"
      ]
    },
    {
      "metadata": {
        "id": "oABmKeLQjyN3",
        "colab_type": "code",
        "colab": {}
      },
      "cell_type": "code",
      "source": [
        "# Lade die Bilder erneut + File Preparation -> einmal beim Session Start ausführen\n",
        "reloadPictures()\n",
        "foundFiles = createFileList()\n",
        "preparedImages = prepareImagesForClassification(foundFiles)\n",
        "\n",
        "\n"
      ],
      "execution_count": 0,
      "outputs": []
    },
    {
      "metadata": {
        "id": "1DZYs14Q3EEE",
        "colab_type": "text"
      },
      "cell_type": "markdown",
      "source": [
        "## Bildklassifikation mit verschiedenen Modellen"
      ]
    },
    {
      "metadata": {
        "id": "4nw9F13bqXot",
        "colab_type": "code",
        "colab": {}
      },
      "cell_type": "code",
      "source": [
        "from keras.applications.vgg16 import VGG16\n",
        "from keras.applications.vgg19 import VGG19\n",
        "\n",
        "# VGG 16\n",
        "predictedClassesVGG16 = classifyImages(preparedImages, VGG16(input_shape=(224, 224, 3)))\n",
        "#printResults(preparedImages, predictedClassesVGG16)\n",
        "\n",
        "# VGG 19\n",
        "predictedClassesVGG19 = classifyImages(preparedImages, VGG19(input_shape=(224, 224, 3)))\n",
        "#printResults(preparedImages, predictedClassesVGG19)\n",
        "\n"
      ],
      "execution_count": 0,
      "outputs": []
    },
    {
      "metadata": {
        "id": "kqXQeXnN21wp",
        "colab_type": "text"
      },
      "cell_type": "markdown",
      "source": [
        "## Modell Vergleich"
      ]
    },
    {
      "metadata": {
        "id": "NpqtLKFg2zf6",
        "colab_type": "code",
        "colab": {}
      },
      "cell_type": "code",
      "source": [
        "resultsList = [predictedClassesVGG16, predictedClassesVGG19]\n",
        "\n",
        "modelList = ['VGG16', 'VGG19']\n",
        "\n",
        "# Diese Methode hier braucht 4 Parameter:\n",
        "# 1. Die Liste der Dateinamen\n",
        "# 2. Die Ergebnisse der einzelnen Modellen, als Array zusammengefasst\n",
        "# 3. Die Namen der Modelle, einfach als String Array\n",
        "# 4. Threshold (mind. Sicherheit der Modellvorhersage)\n",
        "compareResults(foundFiles, resultsList, modelList, 0.05)"
      ],
      "execution_count": 0,
      "outputs": []
    }
  ]
}