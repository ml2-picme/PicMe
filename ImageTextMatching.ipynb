{
  "nbformat": 4,
  "nbformat_minor": 0,
  "metadata": {
    "colab": {
      "name": "ImageTextMatching.ipynb",
      "version": "0.3.2",
      "provenance": [],
      "include_colab_link": true
    },
    "kernelspec": {
      "name": "python3",
      "display_name": "Python 3"
    }
  },
  "cells": [
    {
      "cell_type": "markdown",
      "metadata": {
        "id": "view-in-github",
        "colab_type": "text"
      },
      "source": [
        "<a href=\"https://colab.research.google.com/github/ml2-picme/PicMe/blob/master/ImageTextMatching.ipynb\" target=\"_parent\"><img src=\"https://colab.research.google.com/assets/colab-badge.svg\" alt=\"Open In Colab\"/></a>"
      ]
    },
    {
      "cell_type": "code",
      "metadata": {
        "id": "KHQFlJh0Wjrb",
        "colab_type": "code",
        "colab": {}
      },
      "source": [
        "'''\n",
        "\n",
        "This is the entry class for the Image-Text Matching projekt, done by the ML² course at Offenburg University of Applied Science\n",
        "The project is organized in 3 parts:\n",
        "1.) image classification\n",
        "2.) text stemming\n",
        "3.) bringing both parts above together\n",
        "\n",
        "The goals of the project are:\n",
        "a) Giving a term and find matching images and text files\n",
        "b) Automatic directory search and showing image-text matching results\n",
        "\n",
        "'''"
      ],
      "execution_count": 0,
      "outputs": []
    },
    {
      "cell_type": "markdown",
      "metadata": {
        "id": "ZF6tdc7jZI_h",
        "colab_type": "text"
      },
      "source": [
        "### Preparation"
      ]
    },
    {
      "cell_type": "code",
      "metadata": {
        "id": "S9lGaKrNZH1r",
        "colab_type": "code",
        "colab": {}
      },
      "source": [
        "# Imports used for this notebook\n",
        "\n",
        "import sys\n",
        "import hashlib\n",
        "\n",
        "from urllib.request import urlopen\n",
        "from keras.applications import *\n",
        "\n",
        "# PIP installations\n",
        "\n",
        "!pip install mysql-connector-python-rf"
      ],
      "execution_count": 0,
      "outputs": []
    },
    {
      "cell_type": "code",
      "metadata": {
        "id": "HwGBJi_IkOdP",
        "colab_type": "code",
        "colab": {}
      },
      "source": [
        "# Clone the actual project into the Colab instance, for enabling the usage of the self-written scripts\n",
        "\n",
        "# Remove Path if already existing locally\n",
        "!rm -r PicMe\n",
        "\n",
        "# Clone Git repository\n",
        "!git clone https://github.com/ml2-picme/PicMe.git\n",
        "\n",
        "# Add the relevant paths of the repo to system path\n",
        "sys.path.append(\"/content/PicMe\")\n",
        "sys.path.append(\"/content/PicMe/scripts\")\n",
        "\n",
        "# Add the functions, defined in the script files\n",
        "\n",
        "import script_hub\n",
        "\n",
        "import db_connector\n",
        "import file_processing\n",
        "import image_classification\n",
        "import imagenet_tree_search\n",
        "import text_processing\n",
        "import email_processing"
      ],
      "execution_count": 0,
      "outputs": []
    },
    {
      "cell_type": "markdown",
      "metadata": {
        "id": "2oJyKJSTkn9s",
        "colab_type": "text"
      },
      "source": [
        "### Parameters"
      ]
    },
    {
      "cell_type": "code",
      "metadata": {
        "id": "c5Tmtj6nb5lT",
        "colab_type": "code",
        "colab": {}
      },
      "source": [
        "# Parameters\n",
        "\n",
        "path = \"/tmp/image_classification\"\n",
        "hashrange = 20\n",
        "\n",
        "imageExtensions = [\".jpg\", \".png\", \".bmp\"]\n",
        "emailExtensions = [\".eml\"]\n",
        "documentExtensions = [\".docx\"]\n",
        "\n",
        "dbUser = \"ml2\"\n",
        "dbPassword = \"ml2@hsOg#2019!\"\n",
        "dbHost = \"192.52.33.218\"\n",
        "dbDatabase = \"ml2\"\n",
        "dbAutoCommit = True\n",
        "\n",
        "searchTerm = \"fire\""
      ],
      "execution_count": 0,
      "outputs": []
    },
    {
      "cell_type": "markdown",
      "metadata": {
        "id": "TiIZJDhWkqcL",
        "colab_type": "text"
      },
      "source": [
        "### Entry methods"
      ]
    },
    {
      "cell_type": "code",
      "metadata": {
        "id": "WZOvyHwxpYuE",
        "colab_type": "code",
        "colab": {}
      },
      "source": [
        "# Get a database connection (re-used in methods below)\n",
        "dbConnection = script_hub.createDbConnection(dbUser, dbPassword, dbHost, dbDatabase, dbAutoCommit)\n",
        "\n",
        "# This is the entry method for directory preparation. It downloads the files from ./input directory into local directories on colab instance\n",
        "def simulateDirectoryStructure(path, hashrange):\n",
        "  script_hub.createDirectoryStructure(path, hashrange)\n",
        "  script_hub.downloadPictures(path, hashrange)\n",
        "  script_hub.downloadEmails(path, hashrange)\n",
        "\n",
        "# This is the entry method for examining the local directory structure. It looks for images, emails and documents and writes results to DB\n",
        "def examineDirectoryStructure(path, imageExtensions, emailExtensions, documentExtensions, dbConnection):\n",
        "  script_hub.examineImages(path, imageExtensions, dbConnection)\n",
        "  script_hub.examineEmails(path, emailExtensions, dbConnection)\n",
        "\n",
        "# This is the entry method for finding results based on a fix search-term\n",
        "def searchByTerm(searchTerm, dbConnection):\n",
        "  script_hub.searchImagesBasedOnTerm(searchTerm, dbConnection)\n",
        "  script_hub.searchEmailsBasedOnTerm(searchTerm, dbConnection)\n",
        "\n",
        "# This is the entry method for automatically finding image-text mappings\n",
        "def searchImageTextMappings(dbConnection):\n",
        "  script_hub.searchDbAutomaticallyForImageTextMappings(dbConnection)"
      ],
      "execution_count": 0,
      "outputs": []
    },
    {
      "cell_type": "markdown",
      "metadata": {
        "id": "w-ypSKchqjg1",
        "colab_type": "text"
      },
      "source": [
        "### Logic"
      ]
    },
    {
      "cell_type": "code",
      "metadata": {
        "id": "7XVmpKGAcpvM",
        "colab_type": "code",
        "colab": {}
      },
      "source": [
        "# Start with simulation of a directory structure: Download images, emails and documents and save them in local directories\n",
        "\n",
        "simulateDirectoryStructure(path, hashrange)"
      ],
      "execution_count": 0,
      "outputs": []
    },
    {
      "cell_type": "code",
      "metadata": {
        "id": "QvWPQIHUeUvs",
        "colab_type": "code",
        "colab": {}
      },
      "source": [
        "# Now find corresponding files in this simulated directory structure\n",
        "\n",
        "examineDirectoryStructure(path, imageExtensions, emailExtensions, documentExtensions, dbConnection)"
      ],
      "execution_count": 0,
      "outputs": []
    },
    {
      "cell_type": "code",
      "metadata": {
        "id": "6LIwBxOjh6v7",
        "colab_type": "code",
        "colab": {}
      },
      "source": [
        "# Goal a) Search the results by a given term\n",
        "\n",
        "resultCursorWithImages = searchByTerm(searchTerm, dbConnection)"
      ],
      "execution_count": 0,
      "outputs": []
    },
    {
      "cell_type": "code",
      "metadata": {
        "id": "rLXBXTD6icID",
        "colab_type": "code",
        "colab": {}
      },
      "source": [
        "# Goal b) Search automatically for matching images, emails and documents\n",
        "\n",
        "searchImageTextMappings(dbConnection)"
      ],
      "execution_count": 0,
      "outputs": []
    }
  ]
}