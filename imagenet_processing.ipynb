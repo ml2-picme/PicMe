{
  "nbformat": 4,
  "nbformat_minor": 0,
  "metadata": {
    "colab": {
      "name": "wordnet_processing.ipynb",
      "version": "0.3.2",
      "provenance": [],
      "collapsed_sections": [],
      "include_colab_link": true
    },
    "kernelspec": {
      "name": "python3",
      "display_name": "Python 3"
    }
  },
  "cells": [
    {
      "cell_type": "markdown",
      "metadata": {
        "id": "view-in-github",
        "colab_type": "text"
      },
      "source": [
        "<a href=\"https://colab.research.google.com/github/ml2-picme/PicMe/blob/master/imagenet_processing.ipynb\" target=\"_parent\"><img src=\"https://colab.research.google.com/assets/colab-badge.svg\" alt=\"Open In Colab\"/></a>"
      ]
    },
    {
      "cell_type": "code",
      "metadata": {
        "id": "jpSCNuhL2f63",
        "colab_type": "code",
        "colab": {}
      },
      "source": [
        "# author: tai.truong@software-developer.org. @see https://github.com/ml2-picme/PicMe, imagenet_processing_script.py\n",
        "import requests\n",
        "\n",
        "# returns a words list, including parent and children words for a given synset-ID\n",
        "def getWords(synsetId, parentToChildrenDictionary, childToParentsDictionary):\n",
        "  result = getWordsBySynsetId(synsetId)\n",
        "  if len(result) > 0:\n",
        "    # get child IDs\n",
        "    if synsetId in parentToChildrenDictionary:\n",
        "      children = parentToChildrenDictionary[synsetId]\n",
        "    else:\n",
        "      children = []\n",
        "    # get words for child IDs\n",
        "    print(('retrieving words for children: ' + str(children)))\n",
        "    result.extend(getWordsBySynsetIds(children))\n",
        "\n",
        "    # get parentd IDs\n",
        "    if synsetId in childToParentsDictionary:\n",
        "      parents = childToParentsDictionary[synsetId]\n",
        "    else:\n",
        "      parents = []\n",
        "    # get words for parent IDs\n",
        "    print(('retrieving words for parents: ' + str(parents)))\n",
        "    result.extend(getWordsBySynsetIds(parents))\n",
        "  \n",
        "  return result\n",
        "\n",
        "# returns a words list from image-net for a given synset-ID\n",
        "def getWordsBySynsetId(synsetId):\n",
        "  # GET from image-net using curl\n",
        "  url = 'http://www.image-net.org/api/text/wordnet.synset.getwords?wnid=' + synsetId\n",
        "  result = requests.get(url).text.split('\\n')\n",
        "  \n",
        "  # in case of invalid id we get an 'invalid url' response\n",
        "  if 'Invalid url!' in result:\n",
        "    result = []\n",
        "    \n",
        "  del result[-1]\n",
        "    \n",
        "  print('Synset-ID ' + synsetId + ' has words ' + str(result))\n",
        "  return result\n",
        "\n",
        "# returns a words list from image-net for a list of synset-IDs\n",
        "def getWordsBySynsetIds(synsetIdList):\n",
        "  result = []\n",
        "  if len(synsetIdList) > 0:\n",
        "    for synsetId in synsetIdList:\n",
        "      result.extend(getWordsBySynsetId(synsetId))\n",
        "  return result\n",
        "\n",
        "# returns a dictionary containing parent synset-IDs as keys and for each key a list of children synset ids\n",
        "def getParentToChildrenDictionary():\n",
        "  # GET from image-net using curl\n",
        "  # response is a list where each item is of format 'parent child'\n",
        "  wordnetHierachyList = requests.get(\"http://www.image-net.org/archive/wordnet.is_a.txt\").text.split('\\n')\n",
        "\n",
        "  # check for invalid url response\n",
        "  if 'The URL is not valid.' in wordnetHierachyList:\n",
        "    return {}\n",
        "  \n",
        "  #remove last object in list (it is empty)\n",
        "  del wordnetHierachyList[-1]\n",
        "  \n",
        "  # transform list into dictionary\n",
        "  d = {}\n",
        "  for item in wordnetHierachyList:\n",
        "    parentChild = item.split(' ')\n",
        "    parent = parentChild[0]\n",
        "    child = parentChild[1]\n",
        "    # is key (=parent) with value(=list of children) already defined?\n",
        "    if parent in d:\n",
        "      # add child to list\n",
        "      list = d[parent]\n",
        "      list.append(child)\n",
        "    else:\n",
        "      # create new list\n",
        "      d[parent] = [child]\n",
        "  return d\n",
        "\n",
        "# returns a dictionary containing children synset-IDs as keys and for each key a list of parent synset ids\n",
        "def getChildToParentsDictionary():\n",
        "  # GET from image-net using curl\n",
        "  # response is a list where each item is of format 'parent child'\n",
        "  wordnetHierachyList = requests.get(\"http://www.image-net.org/archive/wordnet.is_a.txt\").text.split('\\n')\n",
        "\n",
        "  # check for invalid url response\n",
        "  if 'The URL is not valid.' in wordnetHierachyList:\n",
        "    return {}\n",
        "  \n",
        "  #remove last object in list (it is empty)\n",
        "  del wordnetHierachyList[-1]\n",
        "\n",
        "  # transform list into dictionary\n",
        "  d = {}\n",
        "  for item in wordnetHierachyList:\n",
        "    parentChild = item.split(' ')\n",
        "    parent = parentChild[0]\n",
        "    child = parentChild[1]\n",
        "    # is key (=child) with value(=list of parents) already defined?\n",
        "    if child in d:\n",
        "      # add parent to list\n",
        "      list = d[child]\n",
        "      list.append(parent)\n",
        "    else:\n",
        "      # create new list\n",
        "      d[child] = [parent]\n",
        "  return d\n",
        "  "
      ],
      "execution_count": 0,
      "outputs": []
    },
    {
      "cell_type": "code",
      "metadata": {
        "id": "wmwB3XwYTipj",
        "colab_type": "code",
        "outputId": "f1d1b33f-ac9b-41af-9494-a43d13dbf3ba",
        "colab": {
          "base_uri": "https://localhost:8080/",
          "height": 357
        }
      },
      "source": [
        "# example for gettings words for synset-ID n06359193\n",
        "\n",
        "parentToChildrenDictionary = getParentToChildrenDictionary()\n",
        "childToParentsDictionary = getChildToParentsDictionary()\n",
        "\n",
        "getWords('n06359193', parentToChildrenDictionary, childToParentsDictionary)"
      ],
      "execution_count": 3,
      "outputs": [
        {
          "output_type": "stream",
          "text": [
            "Synset-ID n06359193 has words ['web site', 'website', 'internet site', 'site']\n",
            "retrieving words for children: ['n06359467', 'n06359657']\n",
            "Synset-ID n06359467 has words ['chat room', 'chatroom']\n",
            "Synset-ID n06359657 has words ['portal site', 'portal']\n",
            "retrieving words for parents: ['n03082979']\n",
            "Synset-ID n03082979 has words ['computer', 'computing machine', 'computing device', 'data processor', 'electronic computer', 'information processing system']\n"
          ],
          "name": "stdout"
        },
        {
          "output_type": "execute_result",
          "data": {
            "text/plain": [
              "['web site',\n",
              " 'website',\n",
              " 'internet site',\n",
              " 'site',\n",
              " 'chat room',\n",
              " 'chatroom',\n",
              " 'portal site',\n",
              " 'portal',\n",
              " 'computer',\n",
              " 'computing machine',\n",
              " 'computing device',\n",
              " 'data processor',\n",
              " 'electronic computer',\n",
              " 'information processing system']"
            ]
          },
          "metadata": {
            "tags": []
          },
          "execution_count": 3
        }
      ]
    },
    {
      "cell_type": "markdown",
      "metadata": {
        "id": "OsFMr-Lr2gt8",
        "colab_type": "text"
      },
      "source": [
        ""
      ]
    }
  ]
}