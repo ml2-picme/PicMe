{
  "nbformat": 4,
  "nbformat_minor": 0,
  "metadata": {
    "colab": {
      "name": "Find Images In Google Drive.ipynb",
      "version": "0.3.2",
      "provenance": [],
      "collapsed_sections": [],
      "include_colab_link": true
    },
    "kernelspec": {
      "name": "python3",
      "display_name": "Python 3"
    }
  },
  "cells": [
    {
      "cell_type": "markdown",
      "metadata": {
        "id": "view-in-github",
        "colab_type": "text"
      },
      "source": [
        "<a href=\"https://colab.research.google.com/github/ml2-picme/PicMe/blob/master/Find_Images_In_Google_Drive.ipynb\" target=\"_parent\"><img src=\"https://colab.research.google.com/assets/colab-badge.svg\" alt=\"Open In Colab\"/></a>"
      ]
    },
    {
      "metadata": {
        "id": "7QtD8aY6iKuv",
        "colab_type": "text"
      },
      "cell_type": "markdown",
      "source": [
        "# This Notebook loads the content of the shared Google Drive directory into the lokal session storage"
      ]
    },
    {
      "metadata": {
        "id": "0KN2JOAHiiNf",
        "colab_type": "text"
      },
      "cell_type": "markdown",
      "source": [
        "### 1. Load the content of the Drive directory into local storage"
      ]
    },
    {
      "metadata": {
        "id": "DS9_A-CFh8OS",
        "colab_type": "code",
        "colab": {
          "base_uri": "https://localhost:8080/",
          "height": 323
        },
        "outputId": "10451147-766c-42c8-8862-907810bb315a"
      },
      "cell_type": "code",
      "source": [
        "# Install the PyDrive wrapper & import libraries\n",
        "!pip install -U -q PyDrive\n",
        "from pydrive.auth import GoogleAuth\n",
        "from pydrive.drive import GoogleDrive\n",
        "from google.colab import auth\n",
        "from oauth2client.client import GoogleCredentials\n",
        "import os\n",
        "\n",
        "# Authenticate and create the PyDrive client\n",
        "auth.authenticate_user()\n",
        "gauth = GoogleAuth()\n",
        "gauth.credentials = GoogleCredentials.get_application_default()\n",
        "drive = GoogleDrive(gauth)\n",
        "\n",
        "# Delete the local directory\n",
        "!rm -r /root/data/\n",
        "print(\"Deleted local directory\")\n",
        "\n",
        "# Set a local directory and upload files from Google Drive\n",
        "local_root_path = os.path.expanduser(\"~/data\")\n",
        "try:\n",
        "  os.makedirs(local_root_path)\n",
        "except: pass\n",
        "\n",
        "def ListFolder(google_drive_id, destination):\n",
        "  file_list = drive.ListFile({'q': \"'%s' in parents and trashed=false\" % google_drive_id}).GetList()\n",
        "  counter = 0\n",
        "  for f in file_list:\n",
        "    # If it is a directory then, create the dicrectory and upload the file inside it\n",
        "    if f['mimeType']=='application/vnd.google-apps.folder': \n",
        "      folder_path = os.path.join(destination, f['title'])\n",
        "      os.makedirs(folder_path)\n",
        "      print('* creating directory {}'.format(folder_path))\n",
        "      ListFolder(f['id'], folder_path)\n",
        "    else:\n",
        "      fname = os.path.join(destination, f['title'])\n",
        "      f_ = drive.CreateFile({'id': f['id']})\n",
        "      f_.GetContentFile(fname)\n",
        "      counter += 1\n",
        "  print('* {} files were uploaded in {}'.format(counter, destination))\n",
        "\n",
        "# Opening and uploading the Drive Folder => this is the shared directory and should work for everyone who belongs to the project\n",
        "print(\"\\nCalling the ListFolder method, that uploads the data...\")\n",
        "ListFolder(\"1PTOfzcdMkVn5bTJ6nhGALQO8ICGBGbnc\", local_root_path)\n",
        "print(\"Upload finished!\")\n",
        "\n",
        "# Show the Data in the local Path\n",
        "print(\"\\nListing files in local test directory\")\n",
        "!ls -l /root/data/test_images"
      ],
      "execution_count": 4,
      "outputs": [
        {
          "output_type": "stream",
          "text": [
            "Deleted local directory\n",
            "\n",
            "Calling the ListFolder method, that uploads the data...\n",
            "* creating directory /root/data/test_images\n",
            "* 8 files were uploaded in /root/data/test_images\n",
            "* 0 files were uploaded in /root/data\n",
            "Upload finished!\n",
            "\n",
            "Listing files in local test directory\n",
            "total 1076\n",
            "-rw-r--r-- 1 root root 106647 Mar 26 15:11 auto.jpg\n",
            "-rw-r--r-- 1 root root 204846 Mar 26 15:11 berge.jpg\n",
            "-rw-r--r-- 1 root root 104237 Mar 26 15:11 brücke.jpg\n",
            "-rw-r--r-- 1 root root 118569 Mar 26 15:11 handy.jpg\n",
            "-rw-r--r-- 1 root root  51903 Mar 26 15:11 hund.jpg\n",
            "-rw-r--r-- 1 root root  53904 Mar 26 15:11 papagei.jpg\n",
            "-rw-r--r-- 1 root root  97310 Mar 26 15:11 sandwich.jpg\n",
            "-rw-r--r-- 1 root root 346140 Mar 26 15:11 waffe.jpg\n"
          ],
          "name": "stdout"
        }
      ]
    },
    {
      "metadata": {
        "id": "f65u1iHPj5Jv",
        "colab_type": "text"
      },
      "cell_type": "markdown",
      "source": [
        "### 2. Make a list of paths for the image files in this directory (and it's subdirectories)"
      ]
    },
    {
      "metadata": {
        "id": "-8bo0jRukFx8",
        "colab_type": "code",
        "colab": {
          "base_uri": "https://localhost:8080/",
          "height": 170
        },
        "outputId": "c4c2ba0d-79d0-46da-e6b5-34e1d86f2d92"
      },
      "cell_type": "code",
      "source": [
        "import os\n",
        "\n",
        "path = '/root/data'\n",
        "\n",
        "files = []\n",
        "# r=root, d=directories, f = files\n",
        "for r, d, f in os.walk(path):\n",
        "    for file in f:\n",
        "        if file.endswith(\".jpg\"):\n",
        "            files.append(os.path.join(r, file))\n",
        "            \n",
        "print(\"Printing files:\")\n",
        "\n",
        "for f in files:\n",
        "    print(f)"
      ],
      "execution_count": 5,
      "outputs": [
        {
          "output_type": "stream",
          "text": [
            "Printing files:\n",
            "/root/data/test_images/auto.jpg\n",
            "/root/data/test_images/brücke.jpg\n",
            "/root/data/test_images/papagei.jpg\n",
            "/root/data/test_images/handy.jpg\n",
            "/root/data/test_images/hund.jpg\n",
            "/root/data/test_images/berge.jpg\n",
            "/root/data/test_images/waffe.jpg\n",
            "/root/data/test_images/sandwich.jpg\n"
          ],
          "name": "stdout"
        }
      ]
    },
    {
      "metadata": {
        "id": "UW1VV57YkbKF",
        "colab_type": "text"
      },
      "cell_type": "markdown",
      "source": [
        "### 3. Classify the Images using pre-trained model"
      ]
    },
    {
      "metadata": {
        "id": "OJhzOfovkh5U",
        "colab_type": "code",
        "colab": {
          "base_uri": "https://localhost:8080/",
          "height": 187
        },
        "outputId": "720f7da5-5f0c-4a46-f955-290fb21d9db5"
      },
      "cell_type": "code",
      "source": [
        "from keras.preprocessing.image import load_img\n",
        "from keras.preprocessing.image import img_to_array\n",
        "from keras.applications.vgg16 import preprocess_input\n",
        "from keras.applications.vgg16 import decode_predictions\n",
        "from keras.applications.vgg16 import VGG16\n",
        "\n",
        "from PIL import Image\n",
        "import urllib.request\n",
        "\n",
        "# load the model\n",
        "model = VGG16()\n",
        "\n",
        "for f in files:\n",
        "    # load an image from file\n",
        "    image = load_img(f, target_size=(224, 224))\n",
        "    # convert the image pixels to a numpy array\n",
        "    image = img_to_array(image)\n",
        "    # reshape data for the model\n",
        "    image = image.reshape((1, image.shape[0], image.shape[1], image.shape[2]))\n",
        "    # prepare the image for the VGG model\n",
        "    image = preprocess_input(image)\n",
        "    # predict the probability across all output classes\n",
        "    yhat = model.predict(image)\n",
        "    # convert the probabilities to class labels\n",
        "    label = decode_predictions(yhat)\n",
        "    # retrieve the most likely result, e.g. highest probability\n",
        "    label = label[0][0]\n",
        "    # print the classification\n",
        "    print(\"Following classes were predicted:\")\n",
        "    \n",
        "    load_img(f)\n",
        "    \n",
        "    \n",
        "    \n",
        "    print('%s --> %s (%.2f%%)' % (f, label[1], label[2]*100))"
      ],
      "execution_count": 7,
      "outputs": [
        {
          "output_type": "stream",
          "text": [
            "Downloading data from https://s3.amazonaws.com/deep-learning-models/image-models/imagenet_class_index.json\n",
            "40960/35363 [==================================] - 0s 0us/step\n",
            "/root/data/test_images/auto.jpg --> sports_car (59.34%)\n",
            "/root/data/test_images/brücke.jpg --> steel_arch_bridge (96.87%)\n",
            "/root/data/test_images/papagei.jpg --> macaw (99.62%)\n",
            "/root/data/test_images/handy.jpg --> iPod (53.37%)\n",
            "/root/data/test_images/hund.jpg --> Labrador_retriever (49.45%)\n",
            "/root/data/test_images/berge.jpg --> alp (66.41%)\n",
            "/root/data/test_images/waffe.jpg --> revolver (81.78%)\n",
            "/root/data/test_images/sandwich.jpg --> French_loaf (41.49%)\n"
          ],
          "name": "stdout"
        }
      ]
    }
  ]
}