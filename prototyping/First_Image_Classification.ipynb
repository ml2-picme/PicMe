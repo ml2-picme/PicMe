{
  "nbformat": 4,
  "nbformat_minor": 0,
  "metadata": {
    "colab": {
      "name": "First Image Classification.ipynb",
      "version": "0.3.2",
      "provenance": [],
      "include_colab_link": true
    },
    "kernelspec": {
      "name": "python3",
      "display_name": "Python 3"
    },
    "accelerator": "GPU"
  },
  "cells": [
    {
      "cell_type": "markdown",
      "metadata": {
        "id": "view-in-github",
        "colab_type": "text"
      },
      "source": [
        "<a href=\"https://colab.research.google.com/github/ml2-picme/PicMe/blob/master/prototyping/First_Image_Classification.ipynb\" target=\"_parent\"><img src=\"https://colab.research.google.com/assets/colab-badge.svg\" alt=\"Open In Colab\"/></a>"
      ]
    },
    {
      "metadata": {
        "id": "BkLiRQ-hXbAw",
        "colab_type": "code",
        "outputId": "b90dd25c-e0ad-444f-f0d6-f7344f56bd13",
        "colab": {
          "base_uri": "https://localhost:8080/",
          "height": 34
        }
      },
      "cell_type": "code",
      "source": [
        "# Code example from https://machinelearningmastery.com/use-pre-trained-vgg-model-classify-objects-photographs/\n",
        "# Image downloading from https://stackoverflow.com/questions/40911170/python-how-to-read-an-image-from-a-url\n",
        "\n",
        "from keras.preprocessing.image import load_img\n",
        "from keras.preprocessing.image import img_to_array\n",
        "from keras.applications.vgg16 import preprocess_input\n",
        "from keras.applications.vgg16 import decode_predictions\n",
        "from keras.applications.vgg16 import VGG16\n",
        "\n",
        "from PIL import Image\n",
        "import urllib.request\n",
        "\n",
        "# Download a image from URL\n",
        "URL = 'http://www.w3schools.com/css/trolltunga.jpg'\n",
        "\n",
        "with urllib.request.urlopen(URL) as url:\n",
        "    with open('temp.jpg', 'wb') as f:\n",
        "        f.write(url.read())\n",
        "\n",
        "# load the model\n",
        "model = VGG16()\n",
        "# load an image from file\n",
        "image = load_img('temp.jpg', target_size=(224, 224))\n",
        "# convert the image pixels to a numpy array\n",
        "image = img_to_array(image)\n",
        "# reshape data for the model\n",
        "image = image.reshape((1, image.shape[0], image.shape[1], image.shape[2]))\n",
        "# prepare the image for the VGG model\n",
        "image = preprocess_input(image)\n",
        "# predict the probability across all output classes\n",
        "yhat = model.predict(image)\n",
        "# convert the probabilities to class labels\n",
        "label = decode_predictions(yhat)\n",
        "# retrieve the most likely result, e.g. highest probability\n",
        "label = label[0][0]\n",
        "# print the classification\n",
        "print('%s (%.2f%%)' % (label[1], label[2]*100))"
      ],
      "execution_count": 0,
      "outputs": [
        {
          "output_type": "stream",
          "text": [
            "cliff (27.75%)\n"
          ],
          "name": "stdout"
        }
      ]
    }
  ]
}