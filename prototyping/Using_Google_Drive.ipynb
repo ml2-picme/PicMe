{
  "nbformat": 4,
  "nbformat_minor": 0,
  "metadata": {
    "colab": {
      "name": "Using Google Drive.ipynb",
      "version": "0.3.2",
      "provenance": [],
      "collapsed_sections": [],
      "include_colab_link": true
    },
    "kernelspec": {
      "name": "python3",
      "display_name": "Python 3"
    }
  },
  "cells": [
    {
      "cell_type": "markdown",
      "metadata": {
        "id": "view-in-github",
        "colab_type": "text"
      },
      "source": [
        "<a href=\"https://colab.research.google.com/github/ml2-picme/PicMe/blob/master/prototyping/Using_Google_Drive.ipynb\" target=\"_parent\"><img src=\"https://colab.research.google.com/assets/colab-badge.svg\" alt=\"Open In Colab\"/></a>"
      ]
    },
    {
      "metadata": {
        "id": "ztBQx7EcTHpC",
        "colab_type": "code",
        "colab": {}
      },
      "cell_type": "code",
      "source": [
        "# Option A) Mount Google Drive in Colab\n",
        "\n",
        "from google.colab import drive\n",
        "\n",
        "# This will prompt for authorization.\n",
        "drive.mount('/content/drive')\n",
        "\n",
        "!ls \"/content/drive/My Drive\""
      ],
      "execution_count": 0,
      "outputs": []
    },
    {
      "metadata": {
        "id": "aEe5fBQBTa2a",
        "colab_type": "code",
        "colab": {}
      },
      "cell_type": "code",
      "source": [
        "# Option B) Opload Files from Google Drive to the local Colab Server storage (faster reads than with mounted Drive)\n",
        "\n",
        "# Install the PyDrive wrapper & import libraries\n",
        "!pip install -U -q PyDrive\n",
        "from pydrive.auth import GoogleAuth\n",
        "from pydrive.drive import GoogleDrive\n",
        "from google.colab import auth\n",
        "from oauth2client.client import GoogleCredentials\n",
        "import os\n",
        "\n",
        "# Authenticate and create the PyDrive client\n",
        "auth.authenticate_user()\n",
        "gauth = GoogleAuth()\n",
        "gauth.credentials = GoogleCredentials.get_application_default()\n",
        "drive = GoogleDrive(gauth)\n",
        "\n",
        "# Delete the local directory\n",
        "!rm -r /root/data/\n",
        "print(\"Deleted local directory\")\n",
        "\n",
        "# Set a local directory and upload files from Google Drive\n",
        "local_root_path = os.path.expanduser(\"~/data\")\n",
        "try:\n",
        "  os.makedirs(local_root_path)\n",
        "except: pass\n",
        "\n",
        "def ListFolder(google_drive_id, destination):\n",
        "  file_list = drive.ListFile({'q': \"'%s' in parents and trashed=false\" % google_drive_id}).GetList()\n",
        "  counter = 0\n",
        "  for f in file_list:\n",
        "    # If it is a directory then, create the dicrectory and upload the file inside it\n",
        "    if f['mimeType']=='application/vnd.google-apps.folder': \n",
        "      folder_path = os.path.join(destination, f['title'])\n",
        "      os.makedirs(folder_path)\n",
        "      print('* creating directory {}'.format(folder_path))\n",
        "      ListFolder(f['id'], folder_path)\n",
        "    else:\n",
        "      fname = os.path.join(destination, f['title'])\n",
        "      f_ = drive.CreateFile({'id': f['id']})\n",
        "      f_.GetContentFile(fname)\n",
        "      counter += 1\n",
        "  print('* {} files were uploaded in {}'.format(counter, destination))\n",
        "\n",
        "# Opening and uploading the Drive Folder\n",
        "print(\"Calling the ListFolder method, that uploads the data...\")\n",
        "ListFolder(\"CHANGE-ME\", local_root_path)\n",
        "print(\"Upload finished!\")\n",
        "\n",
        "# Show the Data in the local Path\n",
        "print(\"Listing files in local test directory\")\n",
        "!ls /root/data/test"
      ],
      "execution_count": 0,
      "outputs": []
    },
    {
      "metadata": {
        "id": "PmLSTaAoWErA",
        "colab_type": "code",
        "colab": {}
      },
      "cell_type": "code",
      "source": [
        "# Option C) Upload from local Computer\n",
        "from google.colab import files\n",
        "uploaded = files.upload()\n",
        "\n",
        "print(\"We are in Server directory:\")\n",
        "!pwd\n",
        "\n",
        "print(\"Uploaded files:\")\n",
        "!ls"
      ],
      "execution_count": 0,
      "outputs": []
    },
    {
      "metadata": {
        "id": "agWytnKPeDKE",
        "colab_type": "code",
        "colab": {}
      },
      "cell_type": "code",
      "source": [
        "# Show a File\n",
        "from keras.preprocessing.image import load_img, img_to_array\n",
        "\n",
        "load_img(\"/root/data/test/hund.jpg\", target_size=(224,224))"
      ],
      "execution_count": 0,
      "outputs": []
    }
  ]
}