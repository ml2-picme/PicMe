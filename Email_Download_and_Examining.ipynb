{
  "nbformat": 4,
  "nbformat_minor": 0,
  "metadata": {
    "colab": {
      "name": "Email Download and Examining.ipynb",
      "version": "0.3.2",
      "provenance": [],
      "include_colab_link": true
    },
    "kernelspec": {
      "name": "python3",
      "display_name": "Python 3"
    }
  },
  "cells": [
    {
      "cell_type": "markdown",
      "metadata": {
        "id": "view-in-github",
        "colab_type": "text"
      },
      "source": [
        "<a href=\"https://colab.research.google.com/github/ml2-picme/PicMe/blob/master/Email_Download_and_Examining.ipynb\" target=\"_parent\"><img src=\"https://colab.research.google.com/assets/colab-badge.svg\" alt=\"Open In Colab\"/></a>"
      ]
    },
    {
      "cell_type": "code",
      "metadata": {
        "id": "rciKlR74P8a-",
        "colab_type": "code",
        "colab": {}
      },
      "source": [
        "from keras.preprocessing.image import load_img, img_to_array\n",
        "import urllib.request\n",
        "\n",
        "def downloadEmailFromUrl(URL, localPath):\n",
        "  print(\"Lade \", URL, \" nach \", localPath + \" herunter\")\n",
        "  with urllib.request.urlopen(URL) as url:\n",
        "    with open(localPath, 'wb') as f:\n",
        "      f.write(url.read())"
      ],
      "execution_count": 0,
      "outputs": []
    },
    {
      "cell_type": "code",
      "metadata": {
        "id": "SR8-1kMzQezk",
        "colab_type": "code",
        "colab": {}
      },
      "source": [
        "def getFileNameFromPath(path):\n",
        "  filename = path.split(\"/\")[len(path.split(\"/\")) - 1]\n",
        "  return filename"
      ],
      "execution_count": 0,
      "outputs": []
    },
    {
      "cell_type": "code",
      "metadata": {
        "id": "cIVr7x8zRwEF",
        "colab_type": "code",
        "colab": {}
      },
      "source": [
        "import os\n",
        "\n",
        "def createLocalDirectory(dir):\n",
        "  \n",
        "  print(\"Erstelle lokales Verzeichnis:\", dir, end='\\t')\n",
        "  \n",
        "  try:  \n",
        "    os.makedirs(dir)\n",
        "\n",
        "  except OSError:  \n",
        "    print (\" - Failed\")\n",
        "  else:\n",
        "    print(\" - OK\")"
      ],
      "execution_count": 0,
      "outputs": []
    },
    {
      "cell_type": "code",
      "metadata": {
        "id": "xxzfAw9IUnOV",
        "colab_type": "code",
        "colab": {}
      },
      "source": [
        "import os\n",
        "\n",
        "def findFilesInPath(dir, extensions):\n",
        "\n",
        "  files = []\n",
        "  \n",
        "  # r=root, d=directories, f = files\n",
        "  for r, d, f in os.walk(dir):\n",
        "    for file in f:\n",
        "      for extension in extensions:\n",
        "        if file.lower().endswith(extension.lower()):\n",
        "            files.append(os.path.join(r, file))\n",
        "            break\n",
        "            \n",
        "  return files"
      ],
      "execution_count": 0,
      "outputs": []
    },
    {
      "cell_type": "code",
      "metadata": {
        "id": "BT5gtg-mTh8m",
        "colab_type": "code",
        "colab": {}
      },
      "source": [
        "import email\n",
        "from email import policy\n",
        "from email.parser import BytesParser\n",
        "\n",
        "def examineEmail(pathToEmail):\n",
        "  get_list = ['from','to','subject']\n",
        "  info_dict = {}\n",
        "  \n",
        "  with open(pathToEmail, 'rb') as fp:  # select a specific email file from the list\n",
        "    msg = BytesParser(policy=policy.default).parse(fp)\n",
        "    text = msg.get_body(preferencelist=('plain')).get_content()\n",
        "    \n",
        "    for get_item in get_list:\n",
        "      info_dict[get_item] = msg[get_item]\n",
        "      \n",
        "    info_dict[\"body\"] = text\n",
        "    \n",
        "    return info_dict"
      ],
      "execution_count": 0,
      "outputs": []
    },
    {
      "cell_type": "code",
      "metadata": {
        "id": "XsvCHKOmQHIO",
        "colab_type": "code",
        "colab": {}
      },
      "source": [
        "localEmailPath = \"/tmp/email_segmentation\"\n",
        "createLocalDirectory(localEmailPath)"
      ],
      "execution_count": 0,
      "outputs": []
    },
    {
      "cell_type": "code",
      "metadata": {
        "id": "2KZWegw6PooP",
        "colab_type": "code",
        "colab": {}
      },
      "source": [
        "from urllib.request import urlopen\n",
        "\n",
        "filesDict = {}\n",
        "\n",
        "data = urlopen(\"https://raw.githubusercontent.com/ml2-picme/PicMe/master/input/emails.txt\")\n",
        "for line in data:\n",
        "  if not line.startswith(b'/'):  # Ignore Lines that begin with a comment (#)\n",
        "    url = line.decode(\"utf-8\").split(\"\\n\")[0]  # Normalization\n",
        "    \n",
        "    filename = getFileNameFromPath(url)\n",
        "\n",
        "    localPath = localEmailPath + \"/\" + filename\n",
        "\n",
        "    downloadEmailFromUrl(url, localPath)\n",
        "    \n",
        "    filesDict[localPath] = url\n",
        "    \n",
        "for x, y in filesDict.items():\n",
        "  print(x, \"->\", y)\n",
        "\n",
        "\n"
      ],
      "execution_count": 0,
      "outputs": []
    },
    {
      "cell_type": "code",
      "metadata": {
        "id": "uu1mq5G1Uuvi",
        "colab_type": "code",
        "colab": {}
      },
      "source": [
        "extensionsToCheck = [\".eml\"]\n",
        "emailList = findFilesInPath(localEmailPath, extensionsToCheck)\n",
        "\n",
        "emailsDict = {}\n",
        "\n",
        "for email in emailList:\n",
        "  emailsDict[email] = examineEmail(email)\n",
        "  \n",
        "for fileName, emailDict in emailsDict.items():\n",
        "  for item, value in emailDict.items():\n",
        "    print(item, \"->\", value)\n",
        "  print(\"============\")\n",
        "  "
      ],
      "execution_count": 0,
      "outputs": []
    }
  ]
}